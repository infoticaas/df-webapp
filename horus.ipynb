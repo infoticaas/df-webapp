{
 "cells": [
  {
   "cell_type": "code",
   "execution_count": 1,
   "id": "1edad70a",
   "metadata": {},
   "outputs": [],
   "source": [
    "import pandas as pd\n",
    "dfmain = pd.read_csv('gtrends_opportunity_test_2022-07-27(1).csv', decimal=',')\n",
    "df = dfmain[['Item Code', 'Price Point', 'Lowest Selling Price', 'Highest Selling Price', \n",
    "             'Category', 'Stock Qty.', 'gtrends_opportunity', 'ai_keyword', 'Image']]"
   ]
  },
  {
   "cell_type": "code",
   "execution_count": 2,
   "id": "6abdc4a2",
   "metadata": {},
   "outputs": [],
   "source": [
    "import ipywidgets as widgets\n",
    "from IPython.display import Javascript, display\n",
    "style = {'description_width': '750px'}\n",
    "layout = {'position': 'Teft top', 'min_width': '750px'}"
   ]
  },
  {
   "cell_type": "code",
   "execution_count": 6,
   "id": "f0f1a62d",
   "metadata": {},
   "outputs": [],
   "source": [
    "# Multi-Select\n",
    "category_widget = widgets.Dropdown(\n",
    "    options=df[\"Category\"].unique(),\n",
    "    value=df[\"Category\"].unique()[1],\n",
    "    description=\"Category\",\n",
    "    disbaled = False\n",
    "    )\n",
    "\n",
    "stock_widget = widgets.IntSlider(\n",
    "    value=0,\n",
    "    min=0,\n",
    "    max=df[\"Stock Qty.\"].max(),\n",
    "    step=1,\n",
    "    description='Stock Qty.',\n",
    "    disabled=False,\n",
    "    continuous_update=False # Only update when the user has released the slider\n",
    ")\n",
    "\n",
    "price_widget = widgets.IntRangeSlider(\n",
    "    value=[0, 10],\n",
    "    min=0,\n",
    "    max=df['Highest Selling Price'].max(),\n",
    "    step=1,\n",
    "    description='Price($):',\n",
    "    disabled=False,\n",
    "    continuous_update=False,\n",
    "    orientation='horizontal',\n",
    "    readout=True,\n",
    "    readout_format='d'\n",
    ")\n",
    "    \n",
    "stock_widget = widgets.IntSlider(\n",
    "    value=0,\n",
    "    min=0,\n",
    "    max=df[\"Stock Qty.\"].max(),\n",
    "    step=1,\n",
    "    description='Stock Qty.',\n",
    "    disabled=False,\n",
    "    continuous_update=False\n",
    ")\n",
    "\n",
    "# Choose how many rows you want\n",
    "n_widget = widgets.IntSlider(\n",
    "    value=1,\n",
    "    min=1,\n",
    "    max=20,\n",
    "    step=1,\n",
    "    description='No. records',\n",
    "    disabled=False,\n",
    "    continuous_update=False # Only update when the user has released the slider\n",
    ")"
   ]
  },
  {
   "cell_type": "code",
   "execution_count": 7,
   "id": "45dd77a9",
   "metadata": {},
   "outputs": [],
   "source": [
    "def show_df(n=n_widget, category=category_widget, stock=stock_widget, price=price_widget):\n",
    "    df_filtered = df[(df[\"Category\"]==category) &\n",
    "                   (df[\"Stock Qty.\"]>stock) &\n",
    "                   (df['Lowest Selling Price']>=list(price)[0]) &\n",
    "                   (df['Highest Selling Price']<=list(price)[1])].head(n)\n",
    "    df_final = df_filtered.drop(['Lowest Selling Price', 'Highest Selling Price'], axis=1)\n",
    "    df_final = df_final.sort_values(by=['gtrends_opportunity'], ascending=False, ignore_index=True)\n",
    "    display(df_final.style)"
   ]
  },
  {
   "cell_type": "code",
   "execution_count": 8,
   "id": "baba82de",
   "metadata": {},
   "outputs": [
    {
     "data": {
      "application/vnd.jupyter.widget-view+json": {
       "model_id": "dac5a9951a144324b627ef23d8982389",
       "version_major": 2,
       "version_minor": 0
      },
      "text/plain": [
       "interactive(children=(IntSlider(value=1, continuous_update=False, description='No. records', max=20, min=1), D…"
      ]
     },
     "metadata": {},
     "output_type": "display_data"
    }
   ],
   "source": [
    "my_gadget = widgets.interactive(show_df)\n",
    "\n",
    "display(my_gadget)"
   ]
  }
 ],
 "metadata": {
  "kernelspec": {
   "display_name": "Python 3 (ipykernel)",
   "language": "python",
   "name": "python3"
  },
  "language_info": {
   "codemirror_mode": {
    "name": "ipython",
    "version": 3
   },
   "file_extension": ".py",
   "mimetype": "text/x-python",
   "name": "python",
   "nbconvert_exporter": "python",
   "pygments_lexer": "ipython3",
   "version": "3.9.6"
  }
 },
 "nbformat": 4,
 "nbformat_minor": 5
}
