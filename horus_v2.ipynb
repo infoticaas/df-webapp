{
 "cells": [
  {
   "cell_type": "code",
   "execution_count": null,
   "id": "1edad70a",
   "metadata": {},
   "outputs": [],
   "source": [
    "# Libraries\n",
    "import os\n",
    "import pandas as pd\n",
    "import numpy as np\n",
    "import matplotlib.pyplot as plt\n",
    "import ipywidgets as widgets\n",
    "from IPython.display import Javascript, display, HTML\n",
    "pd.set_option('display.max_colwidth', None)\n",
    "pd.options.mode.chained_assignment = None"
   ]
  },
  {
   "cell_type": "code",
   "execution_count": null,
   "id": "4ba58d8c",
   "metadata": {},
   "outputs": [],
   "source": [
    "# Read the input file\n",
    "dfmain = pd.read_csv('gtrends_opportunity_test_2022-07-27(1).csv', decimal=',')\n",
    "df = dfmain[['Item Code', 'Price Point', 'Lowest Selling Price', 'Highest Selling Price', \n",
    "             'Category', 'Stock Qty.', 'gtrends_opportunity', 'ai_keyword', 'Image']]"
   ]
  },
  {
   "cell_type": "code",
   "execution_count": null,
   "id": "07ead267",
   "metadata": {},
   "outputs": [],
   "source": [
    "# Add the images\n",
    "def image_match(keyword):\n",
    "    for file in os.listdir('images'):\n",
    "        try:\n",
    "            if keyword in file:\n",
    "                return f'images\\{file}'\n",
    "        except:\n",
    "            pass\n",
    "\n",
    "df['Image'] = df['ai_keyword'].apply(lambda x: image_match(x))"
   ]
  },
  {
   "cell_type": "code",
   "execution_count": null,
   "id": "f0f1a62d",
   "metadata": {},
   "outputs": [],
   "source": [
    "# Widgets\n",
    "category_widget = widgets.Dropdown(\n",
    "    options=df[\"Category\"].unique(),\n",
    "    value=df[\"Category\"].unique()[1],\n",
    "    description=\"Category\",\n",
    "    disbaled = False\n",
    "    )\n",
    "\n",
    "price_widget = widgets.IntRangeSlider(\n",
    "    value=[0, 10],\n",
    "    min=0,\n",
    "    max=df['Highest Selling Price'].max(),\n",
    "    step=1,\n",
    "    description='Price($):',\n",
    "    disabled=False,\n",
    "    continuous_update=False,\n",
    "    orientation='horizontal',\n",
    "    readout=True,\n",
    "    readout_format='d',\n",
    "    color='LimeGreen'\n",
    ")\n",
    "    \n",
    "stock_widget = widgets.IntSlider(\n",
    "    value=0,\n",
    "    min=0,\n",
    "    max=df[\"Stock Qty.\"].max(),\n",
    "    step=1,\n",
    "    description='Stock Qty.',\n",
    "    disabled=False,\n",
    "    continuous_update=False,\n",
    "    handle_color= 'lightblue'\n",
    ")\n",
    "\n",
    "# Choose the no. of rows to display\n",
    "n_widget = widgets.IntSlider(\n",
    "    value=1,\n",
    "    min=1,\n",
    "    max=20,\n",
    "    step=1,\n",
    "    description='No. records',\n",
    "    disabled=False,\n",
    "    continuous_update=False\n",
    ")"
   ]
  },
  {
   "cell_type": "code",
   "execution_count": null,
   "id": "db9a7d74",
   "metadata": {},
   "outputs": [],
   "source": [
    "# Convert links to thumbnail images\n",
    "def path_to_image(path):\n",
    "    return '<img src=\"'+ path + '\" width=\"100\" >'"
   ]
  },
  {
   "cell_type": "code",
   "execution_count": null,
   "id": "45dd77a9",
   "metadata": {},
   "outputs": [],
   "source": [
    "# Filtering\n",
    "def show_df(n=n_widget, category=category_widget, stock=stock_widget, price=price_widget):\n",
    "    df_filtered = df[(df[\"Category\"]==category) &\n",
    "                   (df[\"Stock Qty.\"]>stock) &\n",
    "                   (df['Lowest Selling Price']>=list(price)[0]) &\n",
    "                   (df['Highest Selling Price']<=list(price)[1])].head(n)\n",
    "    df_final = df_filtered.drop(['Lowest Selling Price', 'Highest Selling Price'], axis=1)\n",
    "    df_final = df_final.sort_values(by=['gtrends_opportunity'], ascending=False, ignore_index=True)    \n",
    "    display(HTML(df_final.to_html(escape=False, formatters=dict(Image=path_to_image))))"
   ]
  },
  {
   "cell_type": "code",
   "execution_count": null,
   "id": "baba82de",
   "metadata": {},
   "outputs": [],
   "source": [
    "# Display\n",
    "web_app = widgets.interactive(show_df)\n",
    "display(web_app)"
   ]
  },
  {
   "cell_type": "code",
   "execution_count": null,
   "id": "d8418ff5",
   "metadata": {},
   "outputs": [],
   "source": [
    "# End"
   ]
  }
 ],
 "metadata": {
  "kernelspec": {
   "display_name": "Python 3 (ipykernel)",
   "language": "python",
   "name": "python3"
  },
  "language_info": {
   "codemirror_mode": {
    "name": "ipython",
    "version": 3
   },
   "file_extension": ".py",
   "mimetype": "text/x-python",
   "name": "python",
   "nbconvert_exporter": "python",
   "pygments_lexer": "ipython3",
   "version": "3.9.6"
  }
 },
 "nbformat": 4,
 "nbformat_minor": 5
}
